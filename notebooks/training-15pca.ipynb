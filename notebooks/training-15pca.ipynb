{
 "cells": [
  {
   "cell_type": "markdown",
   "id": "21f8752e-0a24-4da6-9773-7d99606996b0",
   "metadata": {},
   "source": [
    "# Entrenamiento del modelo utilizando 15 features"
   ]
  },
  {
   "cell_type": "markdown",
   "id": "85dbeb1f",
   "metadata": {},
   "source": [
    "### Preparación de Datos"
   ]
  },
  {
   "cell_type": "code",
   "execution_count": 1,
   "id": "11901246-1903-467f-8c4a-30a8526f6380",
   "metadata": {
    "tags": []
   },
   "outputs": [],
   "source": [
    "import pandas as pd\n",
    "import seaborn as sns\n",
    "from sklearn.preprocessing import StandardScaler\n",
    "from sklearn.decomposition import PCA\n",
    "from sklearn.model_selection import train_test_split, GridSearchCV\n",
    "from sklearn.ensemble import RandomForestClassifier\n",
    "from sklearn.metrics import accuracy_score, confusion_matrix, recall_score, f1_score"
   ]
  },
  {
   "cell_type": "code",
   "execution_count": 2,
   "id": "a0b7501c-ad13-4243-aa4d-1692b618af3a",
   "metadata": {
    "tags": []
   },
   "outputs": [],
   "source": [
    "data = pd.read_csv('data/data.csv')\n",
    "data = data.drop(['id'], axis=1)\n",
    "data['diagnosis'] = data['diagnosis'].map({'M':1, 'B':0})\n",
    "x = data.drop(['diagnosis'], axis=1)\n",
    "y = data['diagnosis']"
   ]
  },
  {
   "cell_type": "code",
   "execution_count": 3,
   "id": "a28ef4c4-80e6-4b2e-852b-b5d5420630fb",
   "metadata": {
    "tags": []
   },
   "outputs": [],
   "source": [
    "x = StandardScaler().fit_transform(x)\n",
    "\n",
    "#Selección de componentes principales\n",
    "x_transformed = PCA(n_components=2, random_state=40).fit_transform(x)\n",
    "\n",
    "#Dividir el conjunto de datos\n",
    "x_train, x_valid, y_train, y_valid = train_test_split(x_transformed,y,test_size = 0.2 ,stratify=y, random_state= 1 )"
   ]
  },
  {
   "cell_type": "markdown",
   "id": "2951e033",
   "metadata": {},
   "source": [
    "## Random Forest Classifier"
   ]
  },
  {
   "cell_type": "code",
   "execution_count": 7,
   "id": "066e156d-8e7d-4617-a3c0-e88df9b1fa85",
   "metadata": {
    "tags": []
   },
   "outputs": [
    {
     "name": "stdout",
     "output_type": "stream",
     "text": [
      "Initial score:  0.9341520467836258\n",
      "Initial params:  {'max_depth': 20, 'min_impurity_decrease': 0.001, 'min_samples_split': 20}\n"
     ]
    }
   ],
   "source": [
    "param_grid = {\n",
    "    'max_depth': [10, 20, 30, 40],\n",
    "    'min_samples_split': [20, 40, 60, 80, 100],\n",
    "    'min_impurity_decrease': [0, 0.0005, 0.001, 0.005, 0.01],\n",
    "}\n",
    "\n",
    "gridSearch= GridSearchCV(RandomForestClassifier(), cv =6, n_jobs=-1, param_grid=param_grid)\n",
    "gridSearch.fit(x_train, y_train)\n",
    "print('Initial score: ', gridSearch.best_score_)\n",
    "print('Initial params: ', gridSearch.best_params_)"
   ]
  },
  {
   "cell_type": "code",
   "execution_count": 11,
   "id": "8677158f",
   "metadata": {},
   "outputs": [
    {
     "name": "stdout",
     "output_type": "stream",
     "text": [
      "Best score:  0.9407602339181285\n",
      "Best params:  {'max_depth': 20, 'min_impurity_decrease': 0.0001, 'min_samples_split': 11}\n"
     ]
    }
   ],
   "source": [
    "param_grid = {\n",
    "    'max_depth': list(range(12,25)),\n",
    "    'min_samples_split': list(range(8,20)),\n",
    "    'min_impurity_decrease': [0.001, 0.005, 0.0001],\n",
    "}\n",
    "\n",
    "gridSearch= GridSearchCV(RandomForestClassifier(), cv =6, n_jobs=-1, param_grid=param_grid)\n",
    "gridSearch.fit(x_train, y_train)\n",
    "print('Best score: ', gridSearch.best_score_)\n",
    "print('Best params: ', gridSearch.best_params_)"
   ]
  },
  {
   "cell_type": "code",
   "execution_count": 14,
   "id": "0f84f222-2450-40b1-87ba-3bc77f6091a7",
   "metadata": {
    "tags": []
   },
   "outputs": [
    {
     "name": "stdout",
     "output_type": "stream",
     "text": [
      "Accuracy Score: 96.49\n",
      "Recall Score: 92.86\n",
      "F1 Score: 95.12\n"
     ]
    },
    {
     "data": {
      "text/plain": [
       "<Axes: >"
      ]
     },
     "execution_count": 14,
     "metadata": {},
     "output_type": "execute_result"
    },
    {
     "data": {
      "image/png": "[encoded data removed]",
      "text/plain": [
       "<Figure size 640x480 with 1 Axes>"
      ]
     },
     "metadata": {},
     "output_type": "display_data"
    }
   ],
   "source": [
    "\n",
    "classifier = gridSearch.best_estimator_\n",
    "predictions = classifier.fit(x_train, y_train).predict(x_valid)\n",
    "\n",
    "cm_pca_2 = confusion_matrix(y_valid, predictions)\n",
    "print(f'Accuracy Score: {accuracy_score(y_valid, predictions)*100:.2f}')\n",
    "print(f'Recall Score: {recall_score(y_valid, predictions)*100:.2f}')\n",
    "print(f'F1 Score: {f1_score(y_valid, predictions)*100:.2f}')\n",
    "sns.heatmap(cm_pca_2,annot=True, fmt='d', cmap='YlGnBu', cbar=False,)\n"
   ]
  },
  {
   "cell_type": "markdown",
   "id": "53ddc2a6",
   "metadata": {},
   "source": [
    "## Red Neuronal con Keras"
   ]
  },
  {
   "cell_type": "code",
   "execution_count": 7,
   "id": "55980d5e",
   "metadata": {},
   "outputs": [
    {
     "name": "stderr",
     "output_type": "stream",
     "text": [
      "2024-01-29 20:14:07.950895: I tensorflow/core/platform/cpu_feature_guard.cc:182] This TensorFlow binary is optimized to use available CPU instructions in performance-critical operations.\n",
      "To enable the following instructions: AVX2 FMA, in other operations, rebuild TensorFlow with the appropriate compiler flags.\n"
     ]
    }
   ],
   "source": [
    "import tensorflow as tf"
   ]
  },
  {
   "cell_type": "code",
   "execution_count": 8,
   "id": "92516382",
   "metadata": {},
   "outputs": [
    {
     "name": "stdout",
     "output_type": "stream",
     "text": [
      "Epoch 1/100\n",
      "15/15 [==============================] - 0s 1ms/step - loss: 0.7968 - accuracy: 0.6681\n",
      "Epoch 2/100\n",
      "15/15 [==============================] - 0s 1ms/step - loss: 0.6826 - accuracy: 0.7538\n",
      "Epoch 3/100\n",
      "15/15 [==============================] - 0s 1ms/step - loss: 0.6039 - accuracy: 0.7780\n",
      "Epoch 4/100\n",
      "15/15 [==============================] - 0s 1ms/step - loss: 0.5404 - accuracy: 0.8022\n",
      "Epoch 5/100\n",
      "15/15 [==============================] - 0s 1ms/step - loss: 0.4942 - accuracy: 0.8132\n",
      "Epoch 6/100\n",
      "15/15 [==============================] - 0s 1ms/step - loss: 0.4562 - accuracy: 0.8352\n",
      "Epoch 7/100\n",
      "15/15 [==============================] - 0s 1ms/step - loss: 0.4237 - accuracy: 0.8505\n",
      "Epoch 8/100\n",
      "15/15 [==============================] - 0s 1ms/step - loss: 0.3975 - accuracy: 0.8637\n",
      "Epoch 9/100\n",
      "15/15 [==============================] - 0s 1ms/step - loss: 0.3733 - accuracy: 0.8681\n",
      "Epoch 10/100\n",
      "15/15 [==============================] - 0s 1ms/step - loss: 0.3543 - accuracy: 0.8791\n",
      "Epoch 11/100\n",
      "15/15 [==============================] - 0s 1ms/step - loss: 0.3375 - accuracy: 0.8879\n",
      "Epoch 12/100\n",
      "15/15 [==============================] - 0s 1ms/step - loss: 0.3229 - accuracy: 0.8901\n",
      "Epoch 13/100\n",
      "15/15 [==============================] - 0s 1ms/step - loss: 0.3097 - accuracy: 0.8967\n",
      "Epoch 14/100\n",
      "15/15 [==============================] - 0s 5ms/step - loss: 0.2977 - accuracy: 0.8989\n",
      "Epoch 15/100\n",
      "15/15 [==============================] - 0s 1ms/step - loss: 0.2875 - accuracy: 0.9055\n",
      "Epoch 16/100\n",
      "15/15 [==============================] - 0s 1ms/step - loss: 0.2782 - accuracy: 0.9143\n",
      "Epoch 17/100\n",
      "15/15 [==============================] - 0s 1ms/step - loss: 0.2698 - accuracy: 0.9231\n",
      "Epoch 18/100\n",
      "15/15 [==============================] - 0s 1ms/step - loss: 0.2620 - accuracy: 0.9275\n",
      "Epoch 19/100\n",
      "15/15 [==============================] - 0s 1ms/step - loss: 0.2552 - accuracy: 0.9275\n",
      "Epoch 20/100\n",
      "15/15 [==============================] - 0s 1ms/step - loss: 0.2488 - accuracy: 0.9275\n",
      "Epoch 21/100\n",
      "15/15 [==============================] - 0s 1ms/step - loss: 0.2430 - accuracy: 0.9297\n",
      "Epoch 22/100\n",
      "15/15 [==============================] - 0s 1ms/step - loss: 0.2377 - accuracy: 0.9341\n",
      "Epoch 23/100\n",
      "15/15 [==============================] - 0s 1ms/step - loss: 0.2326 - accuracy: 0.9341\n",
      "Epoch 24/100\n",
      "15/15 [==============================] - 0s 1ms/step - loss: 0.2280 - accuracy: 0.9319\n",
      "Epoch 25/100\n",
      "15/15 [==============================] - 0s 1ms/step - loss: 0.2238 - accuracy: 0.9297\n",
      "Epoch 26/100\n",
      "15/15 [==============================] - 0s 1ms/step - loss: 0.2199 - accuracy: 0.9319\n",
      "Epoch 27/100\n",
      "15/15 [==============================] - 0s 958us/step - loss: 0.2159 - accuracy: 0.9319\n",
      "Epoch 28/100\n",
      "15/15 [==============================] - 0s 996us/step - loss: 0.2125 - accuracy: 0.9341\n",
      "Epoch 29/100\n",
      "15/15 [==============================] - 0s 979us/step - loss: 0.2093 - accuracy: 0.9363\n",
      "Epoch 30/100\n",
      "15/15 [==============================] - 0s 1ms/step - loss: 0.2062 - accuracy: 0.9363\n",
      "Epoch 31/100\n",
      "15/15 [==============================] - 0s 1ms/step - loss: 0.2036 - accuracy: 0.9363\n",
      "Epoch 32/100\n",
      "15/15 [==============================] - 0s 1ms/step - loss: 0.2007 - accuracy: 0.9363\n",
      "Epoch 33/100\n",
      "15/15 [==============================] - 0s 1ms/step - loss: 0.1981 - accuracy: 0.9363\n",
      "Epoch 34/100\n",
      "15/15 [==============================] - 0s 1ms/step - loss: 0.1957 - accuracy: 0.9363\n",
      "Epoch 35/100\n",
      "15/15 [==============================] - 0s 1ms/step - loss: 0.1935 - accuracy: 0.9341\n",
      "Epoch 36/100\n",
      "15/15 [==============================] - 0s 1ms/step - loss: 0.1912 - accuracy: 0.9341\n",
      "Epoch 37/100\n",
      "15/15 [==============================] - 0s 1ms/step - loss: 0.1891 - accuracy: 0.9363\n",
      "Epoch 38/100\n",
      "15/15 [==============================] - 0s 1ms/step - loss: 0.1871 - accuracy: 0.9385\n",
      "Epoch 39/100\n",
      "15/15 [==============================] - 0s 1ms/step - loss: 0.1852 - accuracy: 0.9429\n",
      "Epoch 40/100\n",
      "15/15 [==============================] - 0s 1ms/step - loss: 0.1834 - accuracy: 0.9451\n",
      "Epoch 41/100\n",
      "15/15 [==============================] - 0s 955us/step - loss: 0.1817 - accuracy: 0.9473\n",
      "Epoch 42/100\n",
      "15/15 [==============================] - 0s 1ms/step - loss: 0.1801 - accuracy: 0.9473\n",
      "Epoch 43/100\n",
      "15/15 [==============================] - 0s 1ms/step - loss: 0.1787 - accuracy: 0.9473\n",
      "Epoch 44/100\n",
      "15/15 [==============================] - 0s 1ms/step - loss: 0.1772 - accuracy: 0.9473\n",
      "Epoch 45/100\n",
      "15/15 [==============================] - 0s 1ms/step - loss: 0.1759 - accuracy: 0.9473\n",
      "Epoch 46/100\n",
      "15/15 [==============================] - 0s 1ms/step - loss: 0.1745 - accuracy: 0.9473\n",
      "Epoch 47/100\n",
      "15/15 [==============================] - 0s 4ms/step - loss: 0.1732 - accuracy: 0.9473\n",
      "Epoch 48/100\n",
      "15/15 [==============================] - 0s 2ms/step - loss: 0.1720 - accuracy: 0.9473\n",
      "Epoch 49/100\n",
      "15/15 [==============================] - 0s 2ms/step - loss: 0.1708 - accuracy: 0.9451\n",
      "Epoch 50/100\n",
      "15/15 [==============================] - 0s 2ms/step - loss: 0.1697 - accuracy: 0.9451\n",
      "Epoch 51/100\n",
      "15/15 [==============================] - 0s 1ms/step - loss: 0.1687 - accuracy: 0.9451\n",
      "Epoch 52/100\n",
      "15/15 [==============================] - 0s 1ms/step - loss: 0.1677 - accuracy: 0.9473\n",
      "Epoch 53/100\n",
      "15/15 [==============================] - 0s 1ms/step - loss: 0.1667 - accuracy: 0.9473\n",
      "Epoch 54/100\n",
      "15/15 [==============================] - 0s 1ms/step - loss: 0.1658 - accuracy: 0.9473\n",
      "Epoch 55/100\n",
      "15/15 [==============================] - 0s 1ms/step - loss: 0.1649 - accuracy: 0.9473\n",
      "Epoch 56/100\n",
      "15/15 [==============================] - 0s 1ms/step - loss: 0.1640 - accuracy: 0.9473\n",
      "Epoch 57/100\n",
      "15/15 [==============================] - 0s 1ms/step - loss: 0.1632 - accuracy: 0.9473\n",
      "Epoch 58/100\n",
      "15/15 [==============================] - 0s 1ms/step - loss: 0.1624 - accuracy: 0.9473\n",
      "Epoch 59/100\n",
      "15/15 [==============================] - 0s 1ms/step - loss: 0.1616 - accuracy: 0.9495\n",
      "Epoch 60/100\n",
      "15/15 [==============================] - 0s 1ms/step - loss: 0.1608 - accuracy: 0.9495\n",
      "Epoch 61/100\n",
      "15/15 [==============================] - 0s 1ms/step - loss: 0.1601 - accuracy: 0.9495\n",
      "Epoch 62/100\n",
      "15/15 [==============================] - 0s 1ms/step - loss: 0.1593 - accuracy: 0.9495\n",
      "Epoch 63/100\n",
      "15/15 [==============================] - 0s 1ms/step - loss: 0.1587 - accuracy: 0.9495\n",
      "Epoch 64/100\n",
      "15/15 [==============================] - 0s 1ms/step - loss: 0.1581 - accuracy: 0.9495\n",
      "Epoch 65/100\n",
      "15/15 [==============================] - 0s 962us/step - loss: 0.1575 - accuracy: 0.9495\n",
      "Epoch 66/100\n",
      "15/15 [==============================] - 0s 1ms/step - loss: 0.1568 - accuracy: 0.9495\n",
      "Epoch 67/100\n",
      "15/15 [==============================] - 0s 1ms/step - loss: 0.1562 - accuracy: 0.9495\n",
      "Epoch 68/100\n",
      "15/15 [==============================] - 0s 1ms/step - loss: 0.1557 - accuracy: 0.9495\n",
      "Epoch 69/100\n",
      "15/15 [==============================] - 0s 1ms/step - loss: 0.1551 - accuracy: 0.9495\n",
      "Epoch 70/100\n",
      "15/15 [==============================] - 0s 1ms/step - loss: 0.1545 - accuracy: 0.9495\n",
      "Epoch 71/100\n",
      "15/15 [==============================] - 0s 1ms/step - loss: 0.1539 - accuracy: 0.9495\n",
      "Epoch 72/100\n",
      "15/15 [==============================] - 0s 1ms/step - loss: 0.1534 - accuracy: 0.9495\n",
      "Epoch 73/100\n",
      "15/15 [==============================] - 0s 970us/step - loss: 0.1529 - accuracy: 0.9495\n",
      "Epoch 74/100\n",
      "15/15 [==============================] - 0s 1ms/step - loss: 0.1524 - accuracy: 0.9495\n",
      "Epoch 75/100\n",
      "15/15 [==============================] - 0s 1ms/step - loss: 0.1519 - accuracy: 0.9495\n",
      "Epoch 76/100\n",
      "15/15 [==============================] - 0s 1ms/step - loss: 0.1514 - accuracy: 0.9495\n",
      "Epoch 77/100\n",
      "15/15 [==============================] - 0s 1ms/step - loss: 0.1510 - accuracy: 0.9495\n",
      "Epoch 78/100\n",
      "15/15 [==============================] - 0s 1ms/step - loss: 0.1506 - accuracy: 0.9495\n",
      "Epoch 79/100\n",
      "15/15 [==============================] - 0s 4ms/step - loss: 0.1501 - accuracy: 0.9495\n",
      "Epoch 80/100\n",
      "15/15 [==============================] - 0s 2ms/step - loss: 0.1497 - accuracy: 0.9495\n",
      "Epoch 81/100\n",
      "15/15 [==============================] - 0s 1ms/step - loss: 0.1493 - accuracy: 0.9473\n",
      "Epoch 82/100\n",
      "15/15 [==============================] - 0s 1ms/step - loss: 0.1489 - accuracy: 0.9473\n",
      "Epoch 83/100\n",
      "15/15 [==============================] - 0s 1ms/step - loss: 0.1485 - accuracy: 0.9473\n",
      "Epoch 84/100\n",
      "15/15 [==============================] - 0s 1ms/step - loss: 0.1481 - accuracy: 0.9473\n",
      "Epoch 85/100\n",
      "15/15 [==============================] - 0s 1ms/step - loss: 0.1477 - accuracy: 0.9473\n",
      "Epoch 86/100\n",
      "15/15 [==============================] - 0s 957us/step - loss: 0.1474 - accuracy: 0.9473\n",
      "Epoch 87/100\n",
      "15/15 [==============================] - 0s 938us/step - loss: 0.1470 - accuracy: 0.9473\n",
      "Epoch 88/100\n",
      "15/15 [==============================] - 0s 953us/step - loss: 0.1466 - accuracy: 0.9473\n",
      "Epoch 89/100\n",
      "15/15 [==============================] - 0s 937us/step - loss: 0.1463 - accuracy: 0.9473\n",
      "Epoch 90/100\n",
      "15/15 [==============================] - 0s 1ms/step - loss: 0.1459 - accuracy: 0.9473\n",
      "Epoch 91/100\n",
      "15/15 [==============================] - 0s 983us/step - loss: 0.1456 - accuracy: 0.9473\n",
      "Epoch 92/100\n",
      "15/15 [==============================] - 0s 1ms/step - loss: 0.1453 - accuracy: 0.9473\n",
      "Epoch 93/100\n",
      "15/15 [==============================] - 0s 1ms/step - loss: 0.1450 - accuracy: 0.9473\n",
      "Epoch 94/100\n",
      "15/15 [==============================] - 0s 1ms/step - loss: 0.1447 - accuracy: 0.9473\n",
      "Epoch 95/100\n",
      "15/15 [==============================] - 0s 1ms/step - loss: 0.1443 - accuracy: 0.9473\n",
      "Epoch 96/100\n",
      "15/15 [==============================] - 0s 1ms/step - loss: 0.1441 - accuracy: 0.9473\n",
      "Epoch 97/100\n",
      "15/15 [==============================] - 0s 1ms/step - loss: 0.1438 - accuracy: 0.9473\n",
      "Epoch 98/100\n",
      "15/15 [==============================] - 0s 1ms/step - loss: 0.1435 - accuracy: 0.9473\n",
      "Epoch 99/100\n",
      "15/15 [==============================] - 0s 1ms/step - loss: 0.1432 - accuracy: 0.9473\n",
      "Epoch 100/100\n",
      "15/15 [==============================] - 0s 1ms/step - loss: 0.1430 - accuracy: 0.9451\n"
     ]
    },
    {
     "data": {
      "text/plain": [
       "<keras.src.callbacks.History at 0x14d29ff10>"
      ]
     },
     "execution_count": 8,
     "metadata": {},
     "output_type": "execute_result"
    }
   ],
   "source": [
    "mlp_model_1 = tf.keras.models.Sequential([\n",
    "    tf.keras.layers.Flatten(),\n",
    "    tf.keras.layers.Dense(15, activation='relu', input_shape=(15,)),\n",
    "    tf.keras.layers.Dense(1, activation='sigmoid')\n",
    "])\n",
    "mlp_model_1.compile(\n",
    "    optimizer=tf.optimizers.SGD(learning_rate=0.0036),\n",
    "    loss='binary_crossentropy',\n",
    "    metrics=['accuracy']\n",
    ")\n",
    "mlp_model_1.fit(x_train,y_train, epochs=100)"
   ]
  },
  {
   "cell_type": "code",
   "execution_count": 9,
   "id": "b548073f",
   "metadata": {},
   "outputs": [
    {
     "name": "stdout",
     "output_type": "stream",
     "text": [
      "4/4 [==============================] - 0s 1ms/step\n",
      "Accuracy Score with PCA: 95.61\n",
      "Recall score: 90.48\n",
      "F1 score: 93.83\n"
     ]
    },
    {
     "data": {
      "text/plain": [
       "<Axes: >"
      ]
     },
     "execution_count": 9,
     "metadata": {},
     "output_type": "execute_result"
    },
    {
     "data": {
      "image/png": "[encoded data removed]",
      "text/plain": [
       "<Figure size 640x480 with 1 Axes>"
      ]
     },
     "metadata": {},
     "output_type": "display_data"
    }
   ],
   "source": [
    "predictions = mlp_model_1.predict(x_valid).round()\n",
    "\n",
    "print(f'Accuracy Score with PCA: {accuracy_score(y_valid, predictions)*100:.2f}')\n",
    "print(f'Recall score: {recall_score(y_valid, predictions)*100:.2f}')\n",
    "print(f'F1 score: {f1_score(y_valid, predictions)*100:.2f}')\n",
    "\n",
    "cm_pca = confusion_matrix(y_valid, predictions)\n",
    "sns.heatmap(cm_pca,annot=True, fmt='d', cmap='YlGnBu', cbar=False,)"
   ]
  },
  {
   "cell_type": "code",
   "execution_count": 23,
   "id": "f157e78e",
   "metadata": {},
   "outputs": [
    {
     "name": "stdout",
     "output_type": "stream",
     "text": [
      "Epoch 1/100\n",
      "15/15 [==============================] - 1s 1ms/step - loss: 0.6974 - accuracy: 0.4132\n",
      "Epoch 2/100\n",
      "15/15 [==============================] - 0s 1ms/step - loss: 0.6766 - accuracy: 0.5692\n",
      "Epoch 3/100\n",
      "15/15 [==============================] - 0s 1ms/step - loss: 0.6584 - accuracy: 0.6286\n",
      "Epoch 4/100\n",
      "15/15 [==============================] - 0s 4ms/step - loss: 0.6422 - accuracy: 0.6527\n",
      "Epoch 5/100\n",
      "15/15 [==============================] - 0s 2ms/step - loss: 0.6292 - accuracy: 0.6637\n",
      "Epoch 6/100\n",
      "15/15 [==============================] - 0s 1ms/step - loss: 0.6184 - accuracy: 0.6637\n",
      "Epoch 7/100\n",
      "15/15 [==============================] - 0s 1ms/step - loss: 0.6089 - accuracy: 0.6945\n",
      "Epoch 8/100\n",
      "15/15 [==============================] - 0s 1ms/step - loss: 0.5994 - accuracy: 0.7253\n",
      "Epoch 9/100\n",
      "15/15 [==============================] - 0s 1ms/step - loss: 0.5901 - accuracy: 0.7824\n",
      "Epoch 10/100\n",
      "15/15 [==============================] - 0s 1ms/step - loss: 0.5806 - accuracy: 0.8000\n",
      "Epoch 11/100\n",
      "15/15 [==============================] - 0s 1ms/step - loss: 0.5704 - accuracy: 0.8330\n",
      "Epoch 12/100\n",
      "15/15 [==============================] - 0s 1ms/step - loss: 0.5605 - accuracy: 0.8330\n",
      "Epoch 13/100\n",
      "15/15 [==============================] - 0s 1ms/step - loss: 0.5502 - accuracy: 0.8484\n",
      "Epoch 14/100\n",
      "15/15 [==============================] - 0s 1ms/step - loss: 0.5401 - accuracy: 0.8549\n",
      "Epoch 15/100\n",
      "15/15 [==============================] - 0s 1ms/step - loss: 0.5300 - accuracy: 0.8725\n",
      "Epoch 16/100\n",
      "15/15 [==============================] - 0s 1ms/step - loss: 0.5194 - accuracy: 0.8857\n",
      "Epoch 17/100\n",
      "15/15 [==============================] - 0s 1ms/step - loss: 0.5091 - accuracy: 0.8989\n",
      "Epoch 18/100\n",
      "15/15 [==============================] - 0s 1ms/step - loss: 0.4984 - accuracy: 0.9077\n",
      "Epoch 19/100\n",
      "15/15 [==============================] - 0s 1ms/step - loss: 0.4874 - accuracy: 0.9121\n",
      "Epoch 20/100\n",
      "15/15 [==============================] - 0s 1ms/step - loss: 0.4765 - accuracy: 0.9143\n",
      "Epoch 21/100\n",
      "15/15 [==============================] - 0s 1ms/step - loss: 0.4659 - accuracy: 0.9209\n",
      "Epoch 22/100\n",
      "15/15 [==============================] - 0s 1ms/step - loss: 0.4548 - accuracy: 0.9165\n",
      "Epoch 23/100\n",
      "15/15 [==============================] - 0s 1ms/step - loss: 0.4439 - accuracy: 0.9209\n",
      "Epoch 24/100\n",
      "15/15 [==============================] - 0s 1ms/step - loss: 0.4333 - accuracy: 0.9231\n",
      "Epoch 25/100\n",
      "15/15 [==============================] - 0s 1ms/step - loss: 0.4228 - accuracy: 0.9253\n",
      "Epoch 26/100\n",
      "15/15 [==============================] - 0s 1ms/step - loss: 0.4122 - accuracy: 0.9319\n",
      "Epoch 27/100\n",
      "15/15 [==============================] - 0s 1ms/step - loss: 0.4018 - accuracy: 0.9319\n",
      "Epoch 28/100\n",
      "15/15 [==============================] - 0s 1ms/step - loss: 0.3920 - accuracy: 0.9297\n",
      "Epoch 29/100\n",
      "15/15 [==============================] - 0s 1ms/step - loss: 0.3822 - accuracy: 0.9297\n",
      "Epoch 30/100\n",
      "15/15 [==============================] - 0s 1ms/step - loss: 0.3725 - accuracy: 0.9297\n",
      "Epoch 31/100\n",
      "15/15 [==============================] - 0s 1ms/step - loss: 0.3630 - accuracy: 0.9297\n",
      "Epoch 32/100\n",
      "15/15 [==============================] - 0s 1ms/step - loss: 0.3541 - accuracy: 0.9297\n",
      "Epoch 33/100\n",
      "15/15 [==============================] - 0s 1ms/step - loss: 0.3453 - accuracy: 0.9319\n",
      "Epoch 34/100\n",
      "15/15 [==============================] - 0s 1ms/step - loss: 0.3369 - accuracy: 0.9319\n",
      "Epoch 35/100\n",
      "15/15 [==============================] - 0s 1ms/step - loss: 0.3289 - accuracy: 0.9319\n",
      "Epoch 36/100\n",
      "15/15 [==============================] - 0s 1ms/step - loss: 0.3212 - accuracy: 0.9319\n",
      "Epoch 37/100\n",
      "15/15 [==============================] - 0s 3ms/step - loss: 0.3137 - accuracy: 0.9319\n",
      "Epoch 38/100\n",
      "15/15 [==============================] - 0s 2ms/step - loss: 0.3065 - accuracy: 0.9319\n",
      "Epoch 39/100\n",
      "15/15 [==============================] - 0s 1ms/step - loss: 0.2995 - accuracy: 0.9319\n",
      "Epoch 40/100\n",
      "15/15 [==============================] - 0s 1ms/step - loss: 0.2928 - accuracy: 0.9341\n",
      "Epoch 41/100\n",
      "15/15 [==============================] - 0s 1ms/step - loss: 0.2865 - accuracy: 0.9341\n",
      "Epoch 42/100\n",
      "15/15 [==============================] - 0s 1ms/step - loss: 0.2803 - accuracy: 0.9341\n",
      "Epoch 43/100\n",
      "15/15 [==============================] - 0s 1ms/step - loss: 0.2742 - accuracy: 0.9341\n",
      "Epoch 44/100\n",
      "15/15 [==============================] - 0s 1ms/step - loss: 0.2682 - accuracy: 0.9385\n",
      "Epoch 45/100\n",
      "15/15 [==============================] - 0s 1ms/step - loss: 0.2625 - accuracy: 0.9385\n",
      "Epoch 46/100\n",
      "15/15 [==============================] - 0s 1ms/step - loss: 0.2571 - accuracy: 0.9341\n",
      "Epoch 47/100\n",
      "15/15 [==============================] - 0s 1ms/step - loss: 0.2519 - accuracy: 0.9363\n",
      "Epoch 48/100\n",
      "15/15 [==============================] - 0s 1ms/step - loss: 0.2467 - accuracy: 0.9363\n",
      "Epoch 49/100\n",
      "15/15 [==============================] - 0s 1ms/step - loss: 0.2419 - accuracy: 0.9363\n",
      "Epoch 50/100\n",
      "15/15 [==============================] - 0s 1ms/step - loss: 0.2370 - accuracy: 0.9363\n",
      "Epoch 51/100\n",
      "15/15 [==============================] - 0s 1ms/step - loss: 0.2326 - accuracy: 0.9363\n",
      "Epoch 52/100\n",
      "15/15 [==============================] - 0s 1ms/step - loss: 0.2283 - accuracy: 0.9363\n",
      "Epoch 53/100\n",
      "15/15 [==============================] - 0s 1ms/step - loss: 0.2241 - accuracy: 0.9363\n",
      "Epoch 54/100\n",
      "15/15 [==============================] - 0s 1ms/step - loss: 0.2200 - accuracy: 0.9363\n",
      "Epoch 55/100\n",
      "15/15 [==============================] - 0s 1ms/step - loss: 0.2161 - accuracy: 0.9363\n",
      "Epoch 56/100\n",
      "15/15 [==============================] - 0s 1ms/step - loss: 0.2125 - accuracy: 0.9363\n",
      "Epoch 57/100\n",
      "15/15 [==============================] - 0s 2ms/step - loss: 0.2089 - accuracy: 0.9363\n",
      "Epoch 58/100\n",
      "15/15 [==============================] - 0s 1ms/step - loss: 0.2055 - accuracy: 0.9363\n",
      "Epoch 59/100\n",
      "15/15 [==============================] - 0s 1ms/step - loss: 0.2021 - accuracy: 0.9363\n",
      "Epoch 60/100\n",
      "15/15 [==============================] - 0s 1ms/step - loss: 0.1990 - accuracy: 0.9385\n",
      "Epoch 61/100\n",
      "15/15 [==============================] - 0s 1ms/step - loss: 0.1960 - accuracy: 0.9385\n",
      "Epoch 62/100\n",
      "15/15 [==============================] - 0s 1ms/step - loss: 0.1930 - accuracy: 0.9407\n",
      "Epoch 63/100\n",
      "15/15 [==============================] - 0s 1ms/step - loss: 0.1901 - accuracy: 0.9451\n",
      "Epoch 64/100\n",
      "15/15 [==============================] - 0s 1ms/step - loss: 0.1875 - accuracy: 0.9451\n",
      "Epoch 65/100\n",
      "15/15 [==============================] - 0s 1ms/step - loss: 0.1848 - accuracy: 0.9451\n",
      "Epoch 66/100\n",
      "15/15 [==============================] - 0s 1ms/step - loss: 0.1825 - accuracy: 0.9451\n",
      "Epoch 67/100\n",
      "15/15 [==============================] - 0s 1ms/step - loss: 0.1802 - accuracy: 0.9473\n",
      "Epoch 68/100\n",
      "15/15 [==============================] - 0s 1ms/step - loss: 0.1778 - accuracy: 0.9495\n",
      "Epoch 69/100\n",
      "15/15 [==============================] - 0s 1ms/step - loss: 0.1756 - accuracy: 0.9516\n",
      "Epoch 70/100\n",
      "15/15 [==============================] - 0s 1ms/step - loss: 0.1737 - accuracy: 0.9473\n",
      "Epoch 71/100\n",
      "15/15 [==============================] - 0s 4ms/step - loss: 0.1716 - accuracy: 0.9473\n",
      "Epoch 72/100\n",
      "15/15 [==============================] - 0s 2ms/step - loss: 0.1699 - accuracy: 0.9473\n",
      "Epoch 73/100\n",
      "15/15 [==============================] - 0s 1ms/step - loss: 0.1681 - accuracy: 0.9473\n",
      "Epoch 74/100\n",
      "15/15 [==============================] - 0s 1ms/step - loss: 0.1664 - accuracy: 0.9495\n",
      "Epoch 75/100\n",
      "15/15 [==============================] - 0s 1ms/step - loss: 0.1648 - accuracy: 0.9495\n",
      "Epoch 76/100\n",
      "15/15 [==============================] - 0s 1ms/step - loss: 0.1632 - accuracy: 0.9516\n",
      "Epoch 77/100\n",
      "15/15 [==============================] - 0s 1ms/step - loss: 0.1618 - accuracy: 0.9516\n",
      "Epoch 78/100\n",
      "15/15 [==============================] - 0s 1ms/step - loss: 0.1604 - accuracy: 0.9516\n",
      "Epoch 79/100\n",
      "15/15 [==============================] - 0s 1ms/step - loss: 0.1590 - accuracy: 0.9516\n",
      "Epoch 80/100\n",
      "15/15 [==============================] - 0s 1ms/step - loss: 0.1579 - accuracy: 0.9538\n",
      "Epoch 81/100\n",
      "15/15 [==============================] - 0s 1ms/step - loss: 0.1567 - accuracy: 0.9538\n",
      "Epoch 82/100\n",
      "15/15 [==============================] - 0s 1ms/step - loss: 0.1556 - accuracy: 0.9538\n",
      "Epoch 83/100\n",
      "15/15 [==============================] - 0s 1ms/step - loss: 0.1546 - accuracy: 0.9538\n",
      "Epoch 84/100\n",
      "15/15 [==============================] - 0s 1ms/step - loss: 0.1535 - accuracy: 0.9538\n",
      "Epoch 85/100\n",
      "15/15 [==============================] - 0s 1ms/step - loss: 0.1526 - accuracy: 0.9538\n",
      "Epoch 86/100\n",
      "15/15 [==============================] - 0s 1ms/step - loss: 0.1517 - accuracy: 0.9538\n",
      "Epoch 87/100\n",
      "15/15 [==============================] - 0s 1ms/step - loss: 0.1507 - accuracy: 0.9538\n",
      "Epoch 88/100\n",
      "15/15 [==============================] - 0s 1ms/step - loss: 0.1498 - accuracy: 0.9538\n",
      "Epoch 89/100\n",
      "15/15 [==============================] - 0s 1ms/step - loss: 0.1489 - accuracy: 0.9516\n",
      "Epoch 90/100\n",
      "15/15 [==============================] - 0s 1ms/step - loss: 0.1482 - accuracy: 0.9516\n",
      "Epoch 91/100\n",
      "15/15 [==============================] - 0s 1ms/step - loss: 0.1474 - accuracy: 0.9516\n",
      "Epoch 92/100\n",
      "15/15 [==============================] - 0s 1ms/step - loss: 0.1465 - accuracy: 0.9495\n",
      "Epoch 93/100\n",
      "15/15 [==============================] - 0s 1ms/step - loss: 0.1458 - accuracy: 0.9495\n",
      "Epoch 94/100\n",
      "15/15 [==============================] - 0s 1ms/step - loss: 0.1451 - accuracy: 0.9495\n",
      "Epoch 95/100\n",
      "15/15 [==============================] - 0s 1ms/step - loss: 0.1445 - accuracy: 0.9495\n",
      "Epoch 96/100\n",
      "15/15 [==============================] - 0s 1ms/step - loss: 0.1439 - accuracy: 0.9495\n",
      "Epoch 97/100\n",
      "15/15 [==============================] - 0s 1ms/step - loss: 0.1433 - accuracy: 0.9495\n",
      "Epoch 98/100\n",
      "15/15 [==============================] - 0s 1ms/step - loss: 0.1428 - accuracy: 0.9495\n",
      "Epoch 99/100\n",
      "15/15 [==============================] - 0s 1ms/step - loss: 0.1423 - accuracy: 0.9495\n",
      "Epoch 100/100\n",
      "15/15 [==============================] - 0s 1ms/step - loss: 0.1418 - accuracy: 0.9495\n"
     ]
    },
    {
     "data": {
      "text/plain": [
       "<keras.src.callbacks.History at 0x14e7aee10>"
      ]
     },
     "execution_count": 23,
     "metadata": {},
     "output_type": "execute_result"
    }
   ],
   "source": [
    "mlp_model = tf.keras.models.Sequential([\n",
    "    tf.keras.layers.Flatten(),\n",
    "    tf.keras.layers.Dense(15, activation='relu', input_shape=(15,)),\n",
    "    tf.keras.layers.Dense(15, activation='relu'),\n",
    "    tf.keras.layers.Dense(15, activation='relu'),\n",
    "    tf.keras.layers.Dense(15, activation='relu'),\n",
    "    tf.keras.layers.Dense(15, activation='relu'),\n",
    "    tf.keras.layers.Dense(1, activation='sigmoid')\n",
    "])\n",
    "mlp_model.compile(\n",
    "    optimizer=tf.optimizers.SGD(learning_rate=0.0032),\n",
    "    loss='binary_crossentropy',\n",
    "    metrics=['accuracy']\n",
    ")\n",
    "mlp_model.fit(x_train,y_train, epochs=100)"
   ]
  },
  {
   "cell_type": "code",
   "execution_count": 24,
   "id": "030c0e3f",
   "metadata": {},
   "outputs": [
    {
     "name": "stdout",
     "output_type": "stream",
     "text": [
      "4/4 [==============================] - 0s 1ms/step\n",
      "Accuracy Score with PCA: 96.49\n",
      "Recall score: 92.86\n",
      "F1 score: 95.12\n"
     ]
    },
    {
     "data": {
      "text/plain": [
       "<Axes: >"
      ]
     },
     "execution_count": 24,
     "metadata": {},
     "output_type": "execute_result"
    },
    {
     "data": {
      "image/png": "[encoded data removed]",
      "text/plain": [
       "<Figure size 640x480 with 1 Axes>"
      ]
     },
     "metadata": {},
     "output_type": "display_data"
    }
   ],
   "source": [
    "predictions = mlp_model.predict(x_valid).round()\n",
    "\n",
    "print(f'Accuracy Score with PCA: {accuracy_score(y_valid, predictions)*100:.2f}')\n",
    "print(f'Recall score: {recall_score(y_valid, predictions)*100:.2f}')\n",
    "print(f'F1 score: {f1_score(y_valid, predictions)*100:.2f}')\n",
    "\n",
    "cm_pca = confusion_matrix(y_valid, predictions)\n",
    "sns.heatmap(cm_pca,annot=True, fmt='d', cmap='YlGnBu', cbar=False,)"
   ]
  }
 ],
 "metadata": {
  "kernelspec": {
   "display_name": "Python 3 (ipykernel)",
   "language": "python",
   "name": "python3"
  },
  "language_info": {
   "codemirror_mode": {
    "name": "ipython",
    "version": 3
   },
   "file_extension": ".py",
   "mimetype": "text/x-python",
   "name": "python",
   "nbconvert_exporter": "python",
   "pygments_lexer": "ipython3",
   "version": "3.11.5"
  }
 },
 "nbformat": 4,
 "nbformat_minor": 5
}
