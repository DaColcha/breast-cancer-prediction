{
 "cells": [
  {
   "cell_type": "markdown",
   "metadata": {},
   "source": [
    "# Entrenamiento del modelo utilizando 2 features"
   ]
  },
  {
   "cell_type": "markdown",
   "metadata": {},
   "source": [
    "#### Preparación de datos"
   ]
  },
  {
   "cell_type": "code",
   "execution_count": 1,
   "metadata": {},
   "outputs": [],
   "source": [
    "import pandas as pd\n",
    "import seaborn as sns\n",
    "from sklearn.preprocessing import StandardScaler\n",
    "from sklearn.decomposition import PCA\n",
    "from sklearn.model_selection import train_test_split, cross_validate\n",
    "from sklearn.ensemble import RandomForestClassifier\n",
    "from sklearn.metrics import accuracy_score, confusion_matrix, recall_score, f1_score"
   ]
  },
  {
   "cell_type": "code",
   "execution_count": 2,
   "metadata": {},
   "outputs": [],
   "source": [
    "data = pd.read_csv('data/data.csv')\n",
    "data = data.drop(['id'], axis=1)\n",
    "data['diagnosis'] = data['diagnosis'].map({'M':1, 'B':0})\n",
    "x = data.drop(['diagnosis'], axis=1)\n",
    "y = data['diagnosis']"
   ]
  },
  {
   "cell_type": "code",
   "execution_count": 3,
   "metadata": {},
   "outputs": [],
   "source": [
    "x = StandardScaler().fit_transform(x)\n",
    "\n",
    "#Selección de componentes principales\n",
    "x_transformed = PCA(n_components=2, random_state=40).fit_transform(x)\n",
    "\n",
    "#Dividir el conjunto de datos\n",
    "x_train, x_valid, y_train, y_valid = train_test_split(x_transformed,y,test_size = 0.2 ,stratify=y, random_state= 1 )"
   ]
  },
  {
   "cell_type": "markdown",
   "metadata": {},
   "source": [
    "## Random Forest Classifier"
   ]
  },
  {
   "cell_type": "code",
   "execution_count": 4,
   "metadata": {},
   "outputs": [],
   "source": [
    "classifier = RandomForestClassifier()\n",
    "scores = cross_validate(classifier, x, y, cv =6, scoring=['f1', 'accuracy', 'recall'])"
   ]
  },
  {
   "cell_type": "code",
   "execution_count": 5,
   "metadata": {},
   "outputs": [],
   "source": [
    "f1= scores['test_f1'].mean()\n",
    "accuracy = scores['test_accuracy'].mean()\n",
    "recall = scores['test_recall'].mean()"
   ]
  },
  {
   "cell_type": "code",
   "execution_count": 6,
   "metadata": {},
   "outputs": [
    {
     "name": "stdout",
     "output_type": "stream",
     "text": [
      "Accuracy Score: 96.31\n",
      "Recall Score: 93.41\n",
      "F1 Score: 94.96\n"
     ]
    },
    {
     "data": {
      "text/plain": [
       "<Axes: >"
      ]
     },
     "execution_count": 6,
     "metadata": {},
     "output_type": "execute_result"
    },
    {
     "data": {
      "image/png": "[encoded data removed]",
      "text/plain": [
       "<Figure size 640x480 with 1 Axes>"
      ]
     },
     "metadata": {},
     "output_type": "display_data"
    }
   ],
   "source": [
    "print(f'Accuracy Score: {accuracy*100:.2f}')\n",
    "print(f'Recall Score: {recall*100:.2f}')\n",
    "print(f'F1 Score: {f1*100:.2f}')\n",
    "\n",
    "predictions = classifier.fit(x_train, y_train).predict(x_valid)\n",
    "\n",
    "cm_pca_2 = confusion_matrix(y_valid, predictions)\n",
    "sns.heatmap(cm_pca_2,annot=True, fmt='d', cmap='YlGnBu', cbar=False,)"
   ]
  },
  {
   "cell_type": "markdown",
   "metadata": {},
   "source": [
    "## Red Neuronal con Keras"
   ]
  },
  {
   "cell_type": "code",
   "execution_count": 7,
   "metadata": {},
   "outputs": [
    {
     "name": "stderr",
     "output_type": "stream",
     "text": [
      "2024-01-29 20:11:12.108371: I tensorflow/core/platform/cpu_feature_guard.cc:182] This TensorFlow binary is optimized to use available CPU instructions in performance-critical operations.\n",
      "To enable the following instructions: AVX2 FMA, in other operations, rebuild TensorFlow with the appropriate compiler flags.\n"
     ]
    },
    {
     "name": "stdout",
     "output_type": "stream",
     "text": [
      "Epoch 1/100\n",
      "15/15 [==============================] - 0s 1ms/step - loss: 0.6272 - accuracy: 0.8264\n",
      "Epoch 2/100\n",
      "15/15 [==============================] - 0s 1ms/step - loss: 0.6250 - accuracy: 0.8264\n",
      "Epoch 3/100\n",
      "15/15 [==============================] - 0s 1ms/step - loss: 0.6229 - accuracy: 0.8264\n",
      "Epoch 4/100\n",
      "15/15 [==============================] - 0s 1ms/step - loss: 0.6208 - accuracy: 0.8264\n",
      "Epoch 5/100\n",
      "15/15 [==============================] - 0s 1ms/step - loss: 0.6187 - accuracy: 0.8264\n",
      "Epoch 6/100\n",
      "15/15 [==============================] - 0s 1ms/step - loss: 0.6166 - accuracy: 0.8242\n",
      "Epoch 7/100\n",
      "15/15 [==============================] - 0s 918us/step - loss: 0.6145 - accuracy: 0.8242\n",
      "Epoch 8/100\n",
      "15/15 [==============================] - 0s 868us/step - loss: 0.6126 - accuracy: 0.8264\n",
      "Epoch 9/100\n",
      "15/15 [==============================] - 0s 861us/step - loss: 0.6105 - accuracy: 0.8264\n",
      "Epoch 10/100\n",
      "15/15 [==============================] - 0s 879us/step - loss: 0.6085 - accuracy: 0.8264\n",
      "Epoch 11/100\n",
      "15/15 [==============================] - 0s 909us/step - loss: 0.6064 - accuracy: 0.8264\n",
      "Epoch 12/100\n",
      "15/15 [==============================] - 0s 906us/step - loss: 0.6044 - accuracy: 0.8264\n",
      "Epoch 13/100\n",
      "15/15 [==============================] - 0s 1ms/step - loss: 0.6024 - accuracy: 0.8264\n",
      "Epoch 14/100\n",
      "15/15 [==============================] - 0s 1ms/step - loss: 0.6003 - accuracy: 0.8286\n",
      "Epoch 15/100\n",
      "15/15 [==============================] - 0s 962us/step - loss: 0.5983 - accuracy: 0.8286\n",
      "Epoch 16/100\n",
      "15/15 [==============================] - 0s 1ms/step - loss: 0.5963 - accuracy: 0.8308\n",
      "Epoch 17/100\n",
      "15/15 [==============================] - 0s 1ms/step - loss: 0.5944 - accuracy: 0.8308\n",
      "Epoch 18/100\n",
      "15/15 [==============================] - 0s 1ms/step - loss: 0.5923 - accuracy: 0.8330\n",
      "Epoch 19/100\n",
      "15/15 [==============================] - 0s 1ms/step - loss: 0.5904 - accuracy: 0.8352\n",
      "Epoch 20/100\n",
      "15/15 [==============================] - 0s 1ms/step - loss: 0.5884 - accuracy: 0.8352\n",
      "Epoch 21/100\n",
      "15/15 [==============================] - 0s 2ms/step - loss: 0.5864 - accuracy: 0.8374\n",
      "Epoch 22/100\n",
      "15/15 [==============================] - 0s 2ms/step - loss: 0.5844 - accuracy: 0.8396\n",
      "Epoch 23/100\n",
      "15/15 [==============================] - 0s 1ms/step - loss: 0.5825 - accuracy: 0.8396\n",
      "Epoch 24/100\n",
      "15/15 [==============================] - 0s 959us/step - loss: 0.5806 - accuracy: 0.8396\n",
      "Epoch 25/100\n",
      "15/15 [==============================] - 0s 939us/step - loss: 0.5786 - accuracy: 0.8396\n",
      "Epoch 26/100\n",
      "15/15 [==============================] - 0s 943us/step - loss: 0.5767 - accuracy: 0.8396\n",
      "Epoch 27/100\n",
      "15/15 [==============================] - 0s 946us/step - loss: 0.5747 - accuracy: 0.8418\n",
      "Epoch 28/100\n",
      "15/15 [==============================] - 0s 965us/step - loss: 0.5728 - accuracy: 0.8440\n",
      "Epoch 29/100\n",
      "15/15 [==============================] - 0s 930us/step - loss: 0.5708 - accuracy: 0.8418\n",
      "Epoch 30/100\n",
      "15/15 [==============================] - 0s 1ms/step - loss: 0.5689 - accuracy: 0.8440\n",
      "Epoch 31/100\n",
      "15/15 [==============================] - 0s 931us/step - loss: 0.5670 - accuracy: 0.8440\n",
      "Epoch 32/100\n",
      "15/15 [==============================] - 0s 982us/step - loss: 0.5650 - accuracy: 0.8440\n",
      "Epoch 33/100\n",
      "15/15 [==============================] - 0s 1ms/step - loss: 0.5631 - accuracy: 0.8462\n",
      "Epoch 34/100\n",
      "15/15 [==============================] - 0s 1ms/step - loss: 0.5612 - accuracy: 0.8462\n",
      "Epoch 35/100\n",
      "15/15 [==============================] - 0s 1ms/step - loss: 0.5592 - accuracy: 0.8462\n",
      "Epoch 36/100\n",
      "15/15 [==============================] - 0s 1ms/step - loss: 0.5572 - accuracy: 0.8462\n",
      "Epoch 37/100\n",
      "15/15 [==============================] - 0s 1ms/step - loss: 0.5554 - accuracy: 0.8462\n",
      "Epoch 38/100\n",
      "15/15 [==============================] - 0s 1ms/step - loss: 0.5534 - accuracy: 0.8462\n",
      "Epoch 39/100\n",
      "15/15 [==============================] - 0s 1ms/step - loss: 0.5515 - accuracy: 0.8462\n",
      "Epoch 40/100\n",
      "15/15 [==============================] - 0s 1ms/step - loss: 0.5495 - accuracy: 0.8462\n",
      "Epoch 41/100\n",
      "15/15 [==============================] - 0s 1ms/step - loss: 0.5476 - accuracy: 0.8484\n",
      "Epoch 42/100\n",
      "15/15 [==============================] - 0s 1ms/step - loss: 0.5457 - accuracy: 0.8527\n",
      "Epoch 43/100\n",
      "15/15 [==============================] - 0s 1ms/step - loss: 0.5438 - accuracy: 0.8527\n",
      "Epoch 44/100\n",
      "15/15 [==============================] - 0s 1ms/step - loss: 0.5418 - accuracy: 0.8527\n",
      "Epoch 45/100\n",
      "15/15 [==============================] - 0s 1ms/step - loss: 0.5399 - accuracy: 0.8527\n",
      "Epoch 46/100\n",
      "15/15 [==============================] - 0s 1ms/step - loss: 0.5379 - accuracy: 0.8527\n",
      "Epoch 47/100\n",
      "15/15 [==============================] - 0s 1ms/step - loss: 0.5360 - accuracy: 0.8527\n",
      "Epoch 48/100\n",
      "15/15 [==============================] - 0s 1ms/step - loss: 0.5341 - accuracy: 0.8527\n",
      "Epoch 49/100\n",
      "15/15 [==============================] - 0s 912us/step - loss: 0.5321 - accuracy: 0.8527\n",
      "Epoch 50/100\n",
      "15/15 [==============================] - 0s 916us/step - loss: 0.5302 - accuracy: 0.8549\n",
      "Epoch 51/100\n",
      "15/15 [==============================] - 0s 949us/step - loss: 0.5283 - accuracy: 0.8549\n",
      "Epoch 52/100\n",
      "15/15 [==============================] - 0s 935us/step - loss: 0.5264 - accuracy: 0.8549\n",
      "Epoch 53/100\n",
      "15/15 [==============================] - 0s 900us/step - loss: 0.5244 - accuracy: 0.8549\n",
      "Epoch 54/100\n",
      "15/15 [==============================] - 0s 1ms/step - loss: 0.5225 - accuracy: 0.8549\n",
      "Epoch 55/100\n",
      "15/15 [==============================] - 0s 1ms/step - loss: 0.5206 - accuracy: 0.8571\n",
      "Epoch 56/100\n",
      "15/15 [==============================] - 0s 1ms/step - loss: 0.5186 - accuracy: 0.8571\n",
      "Epoch 57/100\n",
      "15/15 [==============================] - 0s 1ms/step - loss: 0.5167 - accuracy: 0.8571\n",
      "Epoch 58/100\n",
      "15/15 [==============================] - 0s 4ms/step - loss: 0.5147 - accuracy: 0.8571\n",
      "Epoch 59/100\n",
      "15/15 [==============================] - 0s 2ms/step - loss: 0.5128 - accuracy: 0.8571\n",
      "Epoch 60/100\n",
      "15/15 [==============================] - 0s 1ms/step - loss: 0.5108 - accuracy: 0.8593\n",
      "Epoch 61/100\n",
      "15/15 [==============================] - 0s 1ms/step - loss: 0.5088 - accuracy: 0.8615\n",
      "Epoch 62/100\n",
      "15/15 [==============================] - 0s 1ms/step - loss: 0.5069 - accuracy: 0.8615\n",
      "Epoch 63/100\n",
      "15/15 [==============================] - 0s 1ms/step - loss: 0.5049 - accuracy: 0.8615\n",
      "Epoch 64/100\n",
      "15/15 [==============================] - 0s 963us/step - loss: 0.5030 - accuracy: 0.8637\n",
      "Epoch 65/100\n",
      "15/15 [==============================] - 0s 954us/step - loss: 0.5011 - accuracy: 0.8637\n",
      "Epoch 66/100\n",
      "15/15 [==============================] - 0s 1ms/step - loss: 0.4991 - accuracy: 0.8637\n",
      "Epoch 67/100\n",
      "15/15 [==============================] - 0s 917us/step - loss: 0.4971 - accuracy: 0.8637\n",
      "Epoch 68/100\n",
      "15/15 [==============================] - 0s 941us/step - loss: 0.4951 - accuracy: 0.8637\n",
      "Epoch 69/100\n",
      "15/15 [==============================] - 0s 1000us/step - loss: 0.4931 - accuracy: 0.8637\n",
      "Epoch 70/100\n",
      "15/15 [==============================] - 0s 1ms/step - loss: 0.4911 - accuracy: 0.8637\n",
      "Epoch 71/100\n",
      "15/15 [==============================] - 0s 957us/step - loss: 0.4890 - accuracy: 0.8637\n",
      "Epoch 72/100\n",
      "15/15 [==============================] - 0s 944us/step - loss: 0.4870 - accuracy: 0.8637\n",
      "Epoch 73/100\n",
      "15/15 [==============================] - 0s 1ms/step - loss: 0.4849 - accuracy: 0.8637\n",
      "Epoch 74/100\n",
      "15/15 [==============================] - 0s 946us/step - loss: 0.4828 - accuracy: 0.8637\n",
      "Epoch 75/100\n",
      "15/15 [==============================] - 0s 876us/step - loss: 0.4809 - accuracy: 0.8637\n",
      "Epoch 76/100\n",
      "15/15 [==============================] - 0s 975us/step - loss: 0.4789 - accuracy: 0.8637\n",
      "Epoch 77/100\n",
      "15/15 [==============================] - 0s 1ms/step - loss: 0.4769 - accuracy: 0.8637\n",
      "Epoch 78/100\n",
      "15/15 [==============================] - 0s 2ms/step - loss: 0.4749 - accuracy: 0.8637\n",
      "Epoch 79/100\n",
      "15/15 [==============================] - 0s 2ms/step - loss: 0.4729 - accuracy: 0.8637\n",
      "Epoch 80/100\n",
      "15/15 [==============================] - 0s 1ms/step - loss: 0.4708 - accuracy: 0.8659\n",
      "Epoch 81/100\n",
      "15/15 [==============================] - 0s 1ms/step - loss: 0.4688 - accuracy: 0.8681\n",
      "Epoch 82/100\n",
      "15/15 [==============================] - 0s 1ms/step - loss: 0.4666 - accuracy: 0.8681\n",
      "Epoch 83/100\n",
      "15/15 [==============================] - 0s 1ms/step - loss: 0.4646 - accuracy: 0.8681\n",
      "Epoch 84/100\n",
      "15/15 [==============================] - 0s 964us/step - loss: 0.4626 - accuracy: 0.8681\n",
      "Epoch 85/100\n",
      "15/15 [==============================] - 0s 888us/step - loss: 0.4605 - accuracy: 0.8681\n",
      "Epoch 86/100\n",
      "15/15 [==============================] - 0s 929us/step - loss: 0.4585 - accuracy: 0.8681\n",
      "Epoch 87/100\n",
      "15/15 [==============================] - 0s 941us/step - loss: 0.4565 - accuracy: 0.8659\n",
      "Epoch 88/100\n",
      "15/15 [==============================] - 0s 900us/step - loss: 0.4545 - accuracy: 0.8659\n",
      "Epoch 89/100\n",
      "15/15 [==============================] - 0s 942us/step - loss: 0.4525 - accuracy: 0.8681\n",
      "Epoch 90/100\n",
      "15/15 [==============================] - 0s 1ms/step - loss: 0.4505 - accuracy: 0.8681\n",
      "Epoch 91/100\n",
      "15/15 [==============================] - 0s 1ms/step - loss: 0.4484 - accuracy: 0.8681\n",
      "Epoch 92/100\n",
      "15/15 [==============================] - 0s 5ms/step - loss: 0.4464 - accuracy: 0.8681\n",
      "Epoch 93/100\n",
      "15/15 [==============================] - 0s 992us/step - loss: 0.4444 - accuracy: 0.8681\n",
      "Epoch 94/100\n",
      "15/15 [==============================] - 0s 932us/step - loss: 0.4423 - accuracy: 0.8659\n",
      "Epoch 95/100\n",
      "15/15 [==============================] - 0s 921us/step - loss: 0.4402 - accuracy: 0.8659\n",
      "Epoch 96/100\n",
      "15/15 [==============================] - 0s 1ms/step - loss: 0.4382 - accuracy: 0.8659\n",
      "Epoch 97/100\n",
      "15/15 [==============================] - 0s 1ms/step - loss: 0.4362 - accuracy: 0.8659\n",
      "Epoch 98/100\n",
      "15/15 [==============================] - 0s 1ms/step - loss: 0.4342 - accuracy: 0.8681\n",
      "Epoch 99/100\n",
      "15/15 [==============================] - 0s 1ms/step - loss: 0.4322 - accuracy: 0.8703\n",
      "Epoch 100/100\n",
      "15/15 [==============================] - 0s 1ms/step - loss: 0.4302 - accuracy: 0.8725\n"
     ]
    },
    {
     "data": {
      "text/plain": [
       "<keras.src.callbacks.History at 0x1478c25d0>"
      ]
     },
     "execution_count": 7,
     "metadata": {},
     "output_type": "execute_result"
    }
   ],
   "source": [
    "import tensorflow as tf\n",
    "\n",
    "mlp_model = tf.keras.models.Sequential([\n",
    "    tf.keras.layers.Flatten(),\n",
    "    tf.keras.layers.Dense(2, activation='relu', input_shape=(2,)),\n",
    "    tf.keras.layers.Dense(1, activation='sigmoid')\n",
    "])\n",
    "mlp_model.compile(\n",
    "    optimizer=tf.optimizers.SGD(learning_rate=0.002),\n",
    "    loss='binary_crossentropy',\n",
    "    metrics=['accuracy']\n",
    ")\n",
    "mlp_model.fit(x_train,y_train, epochs=100)"
   ]
  },
  {
   "cell_type": "code",
   "execution_count": 8,
   "metadata": {},
   "outputs": [
    {
     "name": "stdout",
     "output_type": "stream",
     "text": [
      "4/4 [==============================] - 0s 1ms/step\n",
      "Accuracy Score with PCA: 84.21\n",
      "Recall score: 73.81\n",
      "F1 score: 77.50\n"
     ]
    },
    {
     "data": {
      "text/plain": [
       "<Axes: >"
      ]
     },
     "execution_count": 8,
     "metadata": {},
     "output_type": "execute_result"
    },
    {
     "data": {
      "image/png": "[encoded data removed]",
      "text/plain": [
       "<Figure size 640x480 with 1 Axes>"
      ]
     },
     "metadata": {},
     "output_type": "display_data"
    }
   ],
   "source": [
    "predictions = mlp_model.predict(x_valid).round()\n",
    "\n",
    "print(f'Accuracy Score with PCA: {accuracy_score(y_valid, predictions)*100:.2f}')\n",
    "print(f'Recall score: {recall_score(y_valid, predictions)*100:.2f}')\n",
    "print(f'F1 score: {f1_score(y_valid, predictions)*100:.2f}')\n",
    "\n",
    "cm_pca = confusion_matrix(y_valid, predictions)\n",
    "sns.heatmap(cm_pca,annot=True, fmt='d', cmap='YlGnBu', cbar=False,)"
   ]
  },
  {
   "cell_type": "code",
   "execution_count": 9,
   "metadata": {},
   "outputs": [
    {
     "name": "stdout",
     "output_type": "stream",
     "text": [
      "Epoch 1/100\n",
      "15/15 [==============================] - 0s 1ms/step - loss: 0.4105 - accuracy: 0.8747\n",
      "Epoch 2/100\n",
      "15/15 [==============================] - 0s 1ms/step - loss: 0.4039 - accuracy: 0.9209\n",
      "Epoch 3/100\n",
      "15/15 [==============================] - 0s 1ms/step - loss: 0.3989 - accuracy: 0.9209\n",
      "Epoch 4/100\n",
      "15/15 [==============================] - 0s 1ms/step - loss: 0.3943 - accuracy: 0.9209\n",
      "Epoch 5/100\n",
      "15/15 [==============================] - 0s 981us/step - loss: 0.3905 - accuracy: 0.9209\n",
      "Epoch 6/100\n",
      "15/15 [==============================] - 0s 1ms/step - loss: 0.3871 - accuracy: 0.9209\n",
      "Epoch 7/100\n",
      "15/15 [==============================] - 0s 1ms/step - loss: 0.3841 - accuracy: 0.9209\n",
      "Epoch 8/100\n",
      "15/15 [==============================] - 0s 1ms/step - loss: 0.3817 - accuracy: 0.9209\n",
      "Epoch 9/100\n",
      "15/15 [==============================] - 0s 1ms/step - loss: 0.3791 - accuracy: 0.9209\n",
      "Epoch 10/100\n",
      "15/15 [==============================] - 0s 931us/step - loss: 0.3766 - accuracy: 0.9209\n",
      "Epoch 11/100\n",
      "15/15 [==============================] - 0s 945us/step - loss: 0.3742 - accuracy: 0.9209\n",
      "Epoch 12/100\n",
      "15/15 [==============================] - 0s 921us/step - loss: 0.3721 - accuracy: 0.9187\n",
      "Epoch 13/100\n",
      "15/15 [==============================] - 0s 926us/step - loss: 0.3700 - accuracy: 0.9187\n",
      "Epoch 14/100\n",
      "15/15 [==============================] - 0s 913us/step - loss: 0.3685 - accuracy: 0.9187\n",
      "Epoch 15/100\n",
      "15/15 [==============================] - 0s 907us/step - loss: 0.3665 - accuracy: 0.9187\n",
      "Epoch 16/100\n",
      "15/15 [==============================] - 0s 2ms/step - loss: 0.3645 - accuracy: 0.9187\n",
      "Epoch 17/100\n",
      "15/15 [==============================] - 0s 3ms/step - loss: 0.3625 - accuracy: 0.9187\n",
      "Epoch 18/100\n",
      "15/15 [==============================] - 0s 1ms/step - loss: 0.3606 - accuracy: 0.9187\n",
      "Epoch 19/100\n",
      "15/15 [==============================] - 0s 1ms/step - loss: 0.3588 - accuracy: 0.9187\n",
      "Epoch 20/100\n",
      "15/15 [==============================] - 0s 1ms/step - loss: 0.3571 - accuracy: 0.9187\n",
      "Epoch 21/100\n",
      "15/15 [==============================] - 0s 1ms/step - loss: 0.3553 - accuracy: 0.9187\n",
      "Epoch 22/100\n",
      "15/15 [==============================] - 0s 1ms/step - loss: 0.3536 - accuracy: 0.9187\n",
      "Epoch 23/100\n",
      "15/15 [==============================] - 0s 1ms/step - loss: 0.3519 - accuracy: 0.9187\n",
      "Epoch 24/100\n",
      "15/15 [==============================] - 0s 1ms/step - loss: 0.3503 - accuracy: 0.9187\n",
      "Epoch 25/100\n",
      "15/15 [==============================] - 0s 1ms/step - loss: 0.3487 - accuracy: 0.9165\n",
      "Epoch 26/100\n",
      "15/15 [==============================] - 0s 1ms/step - loss: 0.3471 - accuracy: 0.9165\n",
      "Epoch 27/100\n",
      "15/15 [==============================] - 0s 930us/step - loss: 0.3455 - accuracy: 0.9143\n",
      "Epoch 28/100\n",
      "15/15 [==============================] - 0s 912us/step - loss: 0.3440 - accuracy: 0.9143\n",
      "Epoch 29/100\n",
      "15/15 [==============================] - 0s 954us/step - loss: 0.3425 - accuracy: 0.9143\n",
      "Epoch 30/100\n",
      "15/15 [==============================] - 0s 992us/step - loss: 0.3409 - accuracy: 0.9143\n",
      "Epoch 31/100\n",
      "15/15 [==============================] - 0s 1ms/step - loss: 0.3392 - accuracy: 0.9143\n",
      "Epoch 32/100\n",
      "15/15 [==============================] - 0s 1ms/step - loss: 0.3377 - accuracy: 0.9143\n",
      "Epoch 33/100\n",
      "15/15 [==============================] - 0s 997us/step - loss: 0.3362 - accuracy: 0.9143\n",
      "Epoch 34/100\n",
      "15/15 [==============================] - 0s 995us/step - loss: 0.3347 - accuracy: 0.9165\n",
      "Epoch 35/100\n",
      "15/15 [==============================] - 0s 998us/step - loss: 0.3332 - accuracy: 0.9187\n",
      "Epoch 36/100\n",
      "15/15 [==============================] - 0s 988us/step - loss: 0.3317 - accuracy: 0.9187\n",
      "Epoch 37/100\n",
      "15/15 [==============================] - 0s 1ms/step - loss: 0.3302 - accuracy: 0.9187\n",
      "Epoch 38/100\n",
      "15/15 [==============================] - 0s 1ms/step - loss: 0.3288 - accuracy: 0.9187\n",
      "Epoch 39/100\n",
      "15/15 [==============================] - 0s 1ms/step - loss: 0.3274 - accuracy: 0.9209\n",
      "Epoch 40/100\n",
      "15/15 [==============================] - 0s 1ms/step - loss: 0.3260 - accuracy: 0.9209\n",
      "Epoch 41/100\n",
      "15/15 [==============================] - 0s 1ms/step - loss: 0.3245 - accuracy: 0.9209\n",
      "Epoch 42/100\n",
      "15/15 [==============================] - 0s 1ms/step - loss: 0.3231 - accuracy: 0.9231\n",
      "Epoch 43/100\n",
      "15/15 [==============================] - 0s 1ms/step - loss: 0.3217 - accuracy: 0.9231\n",
      "Epoch 44/100\n",
      "15/15 [==============================] - 0s 1ms/step - loss: 0.3203 - accuracy: 0.9231\n",
      "Epoch 45/100\n",
      "15/15 [==============================] - 0s 1ms/step - loss: 0.3190 - accuracy: 0.9231\n",
      "Epoch 46/100\n",
      "15/15 [==============================] - 0s 955us/step - loss: 0.3176 - accuracy: 0.9231\n",
      "Epoch 47/100\n",
      "15/15 [==============================] - 0s 982us/step - loss: 0.3163 - accuracy: 0.9231\n",
      "Epoch 48/100\n",
      "15/15 [==============================] - 0s 953us/step - loss: 0.3150 - accuracy: 0.9231\n",
      "Epoch 49/100\n",
      "15/15 [==============================] - 0s 1ms/step - loss: 0.3138 - accuracy: 0.9231\n",
      "Epoch 50/100\n",
      "15/15 [==============================] - 0s 951us/step - loss: 0.3125 - accuracy: 0.9231\n",
      "Epoch 51/100\n",
      "15/15 [==============================] - 0s 989us/step - loss: 0.3112 - accuracy: 0.9231\n",
      "Epoch 52/100\n",
      "15/15 [==============================] - 0s 939us/step - loss: 0.3099 - accuracy: 0.9231\n",
      "Epoch 53/100\n",
      "15/15 [==============================] - 0s 930us/step - loss: 0.3087 - accuracy: 0.9231\n",
      "Epoch 54/100\n",
      "15/15 [==============================] - 0s 902us/step - loss: 0.3074 - accuracy: 0.9231\n",
      "Epoch 55/100\n",
      "15/15 [==============================] - 0s 1ms/step - loss: 0.3061 - accuracy: 0.9253\n",
      "Epoch 56/100\n",
      "15/15 [==============================] - 0s 983us/step - loss: 0.3049 - accuracy: 0.9253\n",
      "Epoch 57/100\n",
      "15/15 [==============================] - 0s 989us/step - loss: 0.3037 - accuracy: 0.9253\n",
      "Epoch 58/100\n",
      "15/15 [==============================] - 0s 1ms/step - loss: 0.3025 - accuracy: 0.9253\n",
      "Epoch 59/100\n",
      "15/15 [==============================] - 0s 1ms/step - loss: 0.3012 - accuracy: 0.9253\n",
      "Epoch 60/100\n",
      "15/15 [==============================] - 0s 3ms/step - loss: 0.3000 - accuracy: 0.9253\n",
      "Epoch 61/100\n",
      "15/15 [==============================] - 0s 1ms/step - loss: 0.2988 - accuracy: 0.9253\n",
      "Epoch 62/100\n",
      "15/15 [==============================] - 0s 1ms/step - loss: 0.2977 - accuracy: 0.9253\n",
      "Epoch 63/100\n",
      "15/15 [==============================] - 0s 1ms/step - loss: 0.2965 - accuracy: 0.9297\n",
      "Epoch 64/100\n",
      "15/15 [==============================] - 0s 1ms/step - loss: 0.2954 - accuracy: 0.9319\n",
      "Epoch 65/100\n",
      "15/15 [==============================] - 0s 1ms/step - loss: 0.2942 - accuracy: 0.9319\n",
      "Epoch 66/100\n",
      "15/15 [==============================] - 0s 1ms/step - loss: 0.2931 - accuracy: 0.9363\n",
      "Epoch 67/100\n",
      "15/15 [==============================] - 0s 982us/step - loss: 0.2919 - accuracy: 0.9363\n",
      "Epoch 68/100\n",
      "15/15 [==============================] - 0s 991us/step - loss: 0.2907 - accuracy: 0.9385\n",
      "Epoch 69/100\n",
      "15/15 [==============================] - 0s 1ms/step - loss: 0.2897 - accuracy: 0.9385\n",
      "Epoch 70/100\n",
      "15/15 [==============================] - 0s 2ms/step - loss: 0.2886 - accuracy: 0.9385\n",
      "Epoch 71/100\n",
      "15/15 [==============================] - 0s 1ms/step - loss: 0.2874 - accuracy: 0.9385\n",
      "Epoch 72/100\n",
      "15/15 [==============================] - 0s 2ms/step - loss: 0.2861 - accuracy: 0.9385\n",
      "Epoch 73/100\n",
      "15/15 [==============================] - 0s 1ms/step - loss: 0.2851 - accuracy: 0.9385\n",
      "Epoch 74/100\n",
      "15/15 [==============================] - 0s 1ms/step - loss: 0.2840 - accuracy: 0.9385\n",
      "Epoch 75/100\n",
      "15/15 [==============================] - 0s 1ms/step - loss: 0.2830 - accuracy: 0.9385\n",
      "Epoch 76/100\n",
      "15/15 [==============================] - 0s 1ms/step - loss: 0.2819 - accuracy: 0.9385\n",
      "Epoch 77/100\n",
      "15/15 [==============================] - 0s 1ms/step - loss: 0.2810 - accuracy: 0.9385\n",
      "Epoch 78/100\n",
      "15/15 [==============================] - 0s 975us/step - loss: 0.2800 - accuracy: 0.9385\n",
      "Epoch 79/100\n",
      "15/15 [==============================] - 0s 1ms/step - loss: 0.2790 - accuracy: 0.9407\n",
      "Epoch 80/100\n",
      "15/15 [==============================] - 0s 1ms/step - loss: 0.2781 - accuracy: 0.9385\n",
      "Epoch 81/100\n",
      "15/15 [==============================] - 0s 1ms/step - loss: 0.2771 - accuracy: 0.9407\n",
      "Epoch 82/100\n",
      "15/15 [==============================] - 0s 1ms/step - loss: 0.2761 - accuracy: 0.9429\n",
      "Epoch 83/100\n",
      "15/15 [==============================] - 0s 1ms/step - loss: 0.2751 - accuracy: 0.9429\n",
      "Epoch 84/100\n",
      "15/15 [==============================] - 0s 2ms/step - loss: 0.2741 - accuracy: 0.9407\n",
      "Epoch 85/100\n",
      "15/15 [==============================] - 0s 1ms/step - loss: 0.2732 - accuracy: 0.9429\n",
      "Epoch 86/100\n",
      "15/15 [==============================] - 0s 1ms/step - loss: 0.2722 - accuracy: 0.9407\n",
      "Epoch 87/100\n",
      "15/15 [==============================] - 0s 1ms/step - loss: 0.2712 - accuracy: 0.9407\n",
      "Epoch 88/100\n",
      "15/15 [==============================] - 0s 960us/step - loss: 0.2702 - accuracy: 0.9407\n",
      "Epoch 89/100\n",
      "15/15 [==============================] - 0s 1ms/step - loss: 0.2693 - accuracy: 0.9407\n",
      "Epoch 90/100\n",
      "15/15 [==============================] - 0s 977us/step - loss: 0.2685 - accuracy: 0.9407\n",
      "Epoch 91/100\n",
      "15/15 [==============================] - 0s 3ms/step - loss: 0.2676 - accuracy: 0.9407\n",
      "Epoch 92/100\n",
      "15/15 [==============================] - 0s 3ms/step - loss: 0.2667 - accuracy: 0.9407\n",
      "Epoch 93/100\n",
      "15/15 [==============================] - 0s 2ms/step - loss: 0.2659 - accuracy: 0.9407\n",
      "Epoch 94/100\n",
      "15/15 [==============================] - 0s 2ms/step - loss: 0.2650 - accuracy: 0.9429\n",
      "Epoch 95/100\n",
      "15/15 [==============================] - 0s 1ms/step - loss: 0.2641 - accuracy: 0.9429\n",
      "Epoch 96/100\n",
      "15/15 [==============================] - 0s 1ms/step - loss: 0.2633 - accuracy: 0.9429\n",
      "Epoch 97/100\n",
      "15/15 [==============================] - 0s 1ms/step - loss: 0.2626 - accuracy: 0.9429\n",
      "Epoch 98/100\n",
      "15/15 [==============================] - 0s 1ms/step - loss: 0.2617 - accuracy: 0.9407\n",
      "Epoch 99/100\n",
      "15/15 [==============================] - 0s 1ms/step - loss: 0.2609 - accuracy: 0.9407\n",
      "Epoch 100/100\n",
      "15/15 [==============================] - 0s 1ms/step - loss: 0.2601 - accuracy: 0.9385\n"
     ]
    },
    {
     "data": {
      "text/plain": [
       "<keras.src.callbacks.History at 0x147fb21d0>"
      ]
     },
     "execution_count": 9,
     "metadata": {},
     "output_type": "execute_result"
    }
   ],
   "source": [
    "mlp_model = tf.keras.models.Sequential([\n",
    "    tf.keras.layers.Flatten(),\n",
    "    tf.keras.layers.Dense(2, activation='relu', input_shape=(2,)),\n",
    "    tf.keras.layers.Dense(4, activation='relu'),\n",
    "    tf.keras.layers.Dense(2, activation='relu'),\n",
    "    tf.keras.layers.Dense(1, activation='sigmoid')\n",
    "])\n",
    "mlp_model.compile(\n",
    "    optimizer=tf.optimizers.SGD(learning_rate=0.0036),\n",
    "    loss='binary_crossentropy',\n",
    "    metrics=['accuracy']\n",
    ")\n",
    "mlp_model.fit(x_train,y_train, epochs=100)"
   ]
  },
  {
   "cell_type": "code",
   "execution_count": 10,
   "metadata": {},
   "outputs": [
    {
     "name": "stdout",
     "output_type": "stream",
     "text": [
      "4/4 [==============================] - 0s 1ms/step\n",
      "Accuracy Score with PCA: 95.61\n",
      "Recall score: 95.24\n",
      "F1 score: 94.12\n"
     ]
    },
    {
     "data": {
      "text/plain": [
       "<Axes: >"
      ]
     },
     "execution_count": 10,
     "metadata": {},
     "output_type": "execute_result"
    },
    {
     "data": {
      "image/png": "[encoded data removed]",
      "text/plain": [
       "<Figure size 640x480 with 1 Axes>"
      ]
     },
     "metadata": {},
     "output_type": "display_data"
    }
   ],
   "source": [
    "\n",
    "predictions = mlp_model.predict(x_valid).round()\n",
    "\n",
    "print(f'Accuracy Score with PCA: {accuracy_score(y_valid, predictions)*100:.2f}')\n",
    "print(f'Recall score: {recall_score(y_valid, predictions)*100:.2f}')\n",
    "print(f'F1 score: {f1_score(y_valid, predictions)*100:.2f}')\n",
    "\n",
    "cm_pca = confusion_matrix(y_valid, predictions)\n",
    "sns.heatmap(cm_pca,annot=True, fmt='d', cmap='YlGnBu', cbar=False,)"
   ]
  }
 ],
 "metadata": {
  "kernelspec": {
   "display_name": ".venv",
   "language": "python",
   "name": "python3"
  },
  "language_info": {
   "codemirror_mode": {
    "name": "ipython",
    "version": 3
   },
   "file_extension": ".py",
   "mimetype": "text/x-python",
   "name": "python",
   "nbconvert_exporter": "python",
   "pygments_lexer": "ipython3",
   "version": "3.11.5"
  }
 },
 "nbformat": 4,
 "nbformat_minor": 2
}
